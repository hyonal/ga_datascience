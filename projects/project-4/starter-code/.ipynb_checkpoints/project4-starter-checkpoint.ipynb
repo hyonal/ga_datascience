{
 "cells": [
  {
   "cell_type": "markdown",
   "metadata": {},
   "source": [
    "# Project 4\n",
    "\n",
    "In this project, you will summarize and present your analysis from Projects 1-3."
   ]
  },
  {
   "cell_type": "markdown",
   "metadata": {},
   "source": [
    "### Intro: Write a problem Statement/ Specific Aim for this project"
   ]
  },
  {
   "cell_type": "markdown",
   "metadata": {},
   "source": [
    "Answer: Using Hooli data from Jan 2015 to Apr 2015, determine how likely free-tier customers are to convert to paying customers using demographic data collected at signup and customer usage data. "
   ]
  },
  {
   "cell_type": "markdown",
   "metadata": {},
   "source": [
    "### Dataset:  Write up a description of your data and any cleaning that was completed"
   ]
  },
  {
   "cell_type": "markdown",
   "metadata": {},
   "source": [
    "Answer: The data includes predictors: age, gender, location, profession, days since last log in, and activity score (1 for active users, 0 for inactive users). The response variable in our data is the likeliness of conversion to paid customer (binary variable). As part of the cleaning process, we checked for missing data and examined distributions of our variables to see if any of the variables need to be transformed. \n",
    "\n",
    "There are 400 records in our dataset. 2 observations of columns: gre, gpa and 1 observation from prestige are missing. As these nubmers are small enough, our analysis was done with missing data dropped from the table. \n",
    "\n",
    "All our explantory variables are continuous with different scales. GRE ranges from 220 to 800 and gpa ranges from 2.26 to 4. Prestige has minimum of 1 and maximum value of 4. "
   ]
  },
  {
   "cell_type": "code",
   "execution_count": 16,
   "metadata": {},
   "outputs": [
    {
     "name": "stdout",
     "output_type": "stream",
     "text": [
      "                       gre       gpa\n",
      "admit prestige                      \n",
      "0     1.0       582.857143  3.345714\n",
      "      2.0       588.000000  3.321146\n",
      "      3.0       562.365591  3.402258\n",
      "      4.0       562.909091  3.291455\n",
      "1     1.0       636.363636  3.544242\n",
      "      2.0       612.075472  3.441698\n",
      "      3.0       616.428571  3.534643\n",
      "      4.0       603.333333  3.441667\n",
      "                       gre       gpa\n",
      "admit prestige                      \n",
      "0     1.0       126.574737  0.375445\n",
      "      2.0       103.323495  0.377233\n",
      "      3.0       124.650798  0.379434\n",
      "      4.0       116.327646  0.369767\n",
      "1     1.0       110.618098  0.385511\n",
      "      2.0       113.635018  0.365054\n",
      "      3.0        99.785484  0.399244\n",
      "      4.0       114.680056  0.297286\n"
     ]
    }
   ],
   "source": [
    "import pandas as pd\n",
    "df_raw = pd.read_csv(\"../assets/admissions.csv\")\n",
    "byadmit = df_raw.groupby(['admit', 'prestige'])\n",
    "print byadmit.mean()\n",
    "print byadmit.std()"
   ]
  },
  {
   "cell_type": "markdown",
   "metadata": {
    "collapsed": true
   },
   "source": [
    "### Demo: Provide a table that explains the data by admission status"
   ]
  },
  {
   "cell_type": "markdown",
   "metadata": {},
   "source": [
    "Mean (STD) or counts by admission status for each variable \n",
    "\n",
    "| Not Admitted | Admitted\n",
    "---| ---|---\n",
    "GPA | mean(std)  | mean(std)\n",
    "GRE |mean(std) | mean(std)\n",
    "Prestige 1 | frequency (%) | frequency (%)\n",
    "Prestige 2 | frequency (%) | frequency (%)\n",
    "Prestige 3 |frequency (%) | frequency (%)\n",
    "Prestige 4 |frequency (%) | frequency (%)"
   ]
  },
  {
   "cell_type": "markdown",
   "metadata": {},
   "source": [
    "### Methods: Write up the methods used in your analysis"
   ]
  },
  {
   "cell_type": "markdown",
   "metadata": {},
   "source": [
    "Answer:A logistic regression using Statsmodels v. XX. We calculated the probability of an admission with gpa, gre and prestige data. Prestige is a factor variable so we set 4 dummy variables, one for each prestige level. "
   ]
  },
  {
   "cell_type": "markdown",
   "metadata": {},
   "source": [
    "### Results: Write up your results"
   ]
  },
  {
   "cell_type": "markdown",
   "metadata": {},
   "source": [
    "Answer: The odds of admission increases by 0.28 for students in prestige 2 compared to students in prestige 1. Additionally, the odds of admission by 0.13 and 0.09 for students in prestige 3 and prestige 4 compared to prestige 1, respectively. A single increment in GRE results in 0.002 odds increase in admission and 1.2 for GPA. "
   ]
  },
  {
   "cell_type": "markdown",
   "metadata": {},
   "source": [
    "### Visuals: Provide a table or visualization of these results"
   ]
  },
  {
   "cell_type": "markdown",
   "metadata": {},
   "source": [
    "<img src='placeholder.png' height= 25% width= 25%>"
   ]
  },
  {
   "cell_type": "markdown",
   "metadata": {},
   "source": [
    "                  2.5%     97.5%        OR\n",
    "gre           1.000074  1.004372  1.002221\n",
    "gpa           1.136120  4.183113  2.180027\n",
    "prestige_2.0  0.272168  0.942767  0.506548\n",
    "prestige_3.0  0.133377  0.515419  0.262192\n",
    "prestige_4.0  0.093329  0.479411  0.211525\n",
    "intercept     0.002207  0.194440  0.020716"
   ]
  },
  {
   "cell_type": "markdown",
   "metadata": {},
   "source": [
    "### Discussion: Write up your discussion and future steps"
   ]
  },
  {
   "cell_type": "markdown",
   "metadata": {},
   "source": [
    "Answer: Next step of the model involves looking at other methods of classification and comparing models through appropriate measures. The measure depends on the scope of the problem. "
   ]
  }
 ],
 "metadata": {
  "kernelspec": {
   "display_name": "Python 2",
   "language": "python",
   "name": "python2"
  },
  "language_info": {
   "codemirror_mode": {
    "name": "ipython",
    "version": 2
   },
   "file_extension": ".py",
   "mimetype": "text/x-python",
   "name": "python",
   "nbconvert_exporter": "python",
   "pygments_lexer": "ipython2",
   "version": "2.7.13"
  }
 },
 "nbformat": 4,
 "nbformat_minor": 1
}
